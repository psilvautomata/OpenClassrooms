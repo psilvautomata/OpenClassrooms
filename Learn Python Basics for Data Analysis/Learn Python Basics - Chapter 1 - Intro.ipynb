{
 "cells": [
  {
   "cell_type": "markdown",
   "metadata": {},
   "source": [
    "# $Chapter$ $1$\n",
    "\n",
    "# $Intro$"
   ]
  },
  {
   "cell_type": "code",
   "execution_count": 1,
   "metadata": {},
   "outputs": [
    {
     "name": "stdout",
     "output_type": "stream",
     "text": [
      "Hello World\n",
      "5\n",
      "<class 'str'>\n",
      "8\n",
      "100\n"
     ]
    }
   ],
   "source": [
    "print('Hello World')\n",
    "\n",
    "a = 'Paulo'\n",
    "print(len(a))\n",
    "print(type(a))\n",
    "print(pow(2,3))\n",
    "print(abs(-100))"
   ]
  },
  {
   "cell_type": "code",
   "execution_count": 2,
   "metadata": {},
   "outputs": [
    {
     "name": "stdout",
     "output_type": "stream",
     "text": [
      "Testando Python\n",
      "\n",
      "Testando \n",
      "Python\n"
     ]
    }
   ],
   "source": [
    "print(\"Testando Python\")\n",
    "print(\"\")\n",
    "print(\"Testando \\nPython\")"
   ]
  },
  {
   "cell_type": "markdown",
   "metadata": {},
   "source": [
    "# $Methods$\n",
    "\n",
    "All instances of a class have acess to the same methods via the.(dot) notation.\n",
    "\n",
    "Class - Car\n",
    "Attributes - Characteristics - Four Wheels, White, Sports\n",
    "Methods - It can drive(), break(), handle()\n",
    "* So, from this plan, you can create different car models (Class Instances):\n",
    "* An ordinary family car, green, medium power (110 hp) \n",
    "* A sports car, red, relatively powerful (180 hp)\n",
    "* A small blue city car, not very powerful (90 hp)"
   ]
  },
  {
   "cell_type": "code",
   "execution_count": 2,
   "metadata": {},
   "outputs": [
    {
     "name": "stdout",
     "output_type": "stream",
     "text": [
      "EU AMO MEU PET\n",
      "eu amo meu pet\n",
      "Eu amo meu pet\n",
      "Eu adoro meu pet\n",
      "3\n",
      "-1\n",
      "\n",
      "-1\n",
      "3\n"
     ]
    }
   ],
   "source": [
    "#Strings Methods\n",
    "\n",
    "a = \"Eu amo meu pet\"\n",
    "print(a.upper())\n",
    "print(a.lower())\n",
    "print(a.capitalize())\n",
    "print(a.replace('amo','adoro'))\n",
    "print(a.find('amo')) #Retorna a posição de início da palavra\n",
    "print(a.find('adoro'))\n",
    "\n",
    "print(\"\")\n",
    "#O método não altera o objeto, a menos que eu defina o objeto novamente.\n",
    "\n",
    "a = a.replace('amo','adoro')\n",
    "print(a.find('amo'))\n",
    "print(a.find('adoro'))\n",
    "\n",
    "#-1 Não ocorreu"
   ]
  },
  {
   "cell_type": "markdown",
   "metadata": {},
   "source": [
    "# $Creating$ $Collections$\n",
    "\n",
    "## $Lists$"
   ]
  },
  {
   "cell_type": "code",
   "execution_count": 3,
   "metadata": {},
   "outputs": [
    {
     "name": "stdout",
     "output_type": "stream",
     "text": [
      "Marianne\n",
      "\n",
      "Isaac\n",
      "Catarina\n",
      "['Marianne', 'Alberto']\n",
      "['Marianne', 'Alberto']\n",
      "['Alberto', 'Catarina']\n",
      "\n",
      "['another list', 1]\n"
     ]
    }
   ],
   "source": [
    "costumerName = ['Mario','Alberto','Catarina','Isaac']\n",
    "\n",
    "costumerName[0] = 'Marianne'\n",
    "print(costumerName[0])\n",
    "\n",
    "print(\"\")\n",
    "\n",
    "print(costumerName[-1])\n",
    "print(costumerName[-2])\n",
    "print(costumerName[0:2]) #]0,2]\n",
    "print(costumerName[:2])\n",
    "print(costumerName[1:3]) #]1,3]\n",
    "\n",
    "print(\"\")\n",
    "\n",
    "strangeList = [4, 10.2, 'Marion Weaver', ['another list', 1]]\n",
    "print(strangeList[3]) #print the 4th item of the list"
   ]
  },
  {
   "cell_type": "markdown",
   "metadata": {},
   "source": [
    "### *List Methods*\n",
    "\n",
    ">Ao contrário dos métodos de Strings, os métodos de lista já modificam ela"
   ]
  },
  {
   "cell_type": "code",
   "execution_count": 33,
   "metadata": {},
   "outputs": [
    {
     "name": "stdout",
     "output_type": "stream",
     "text": [
      "[10, 20]\n",
      "[5, 10, 20]\n",
      "[5, 10, 20, 30, 40, 50]\n",
      "[10, 20, 30, 40, 50]\n",
      "\n",
      "Ocorreu um Erro: 5 is not in list\n",
      "\n",
      "0\n",
      "[10, 20, 30, 40, 50]\n",
      "\n",
      "[5, 10, 20, 30, 40, 50]\n",
      "[10, 20, 30, 40, 50]\n"
     ]
    }
   ],
   "source": [
    "\n",
    "#append -> adicionar objetos à lista\n",
    "list=[]\n",
    "list.append(10)\n",
    "list.append(20)\n",
    "\n",
    "print(list)\n",
    "\n",
    "#insert -> Inserir objetos em posições relativas na lista (Index, Value)\n",
    "list.insert(0,5)\n",
    "print(list)\n",
    "\n",
    "#extend -> concatenar listas\n",
    "list.extend([30,40,50])\n",
    "print(list)\n",
    "\n",
    "#remove -> remover primeira ocorrência listada na lista\n",
    "list.remove(5)\n",
    "print(list)\n",
    "\n",
    "print(\"\")\n",
    "\n",
    "#index -> retorna a posição da primeira ocorrência informada\n",
    "try:\n",
    "    print(list.index(5))\n",
    "except Exception as e:\n",
    "    msg_erro = str(e)\n",
    "    print(\"Ocorreu um Erro:\",msg_erro)\n",
    "print(\"\")\n",
    "\n",
    "print(list.index(10))\n",
    "print(list)\n",
    "\n",
    "print(\"\")\n",
    "#del to delete a list index\n",
    "list.insert(0,5)\n",
    "print(list)\n",
    "del list[0]\n",
    "print(list)\n"
   ]
  },
  {
   "cell_type": "markdown",
   "metadata": {},
   "source": [
    "# $Dictionaries$\n",
    "\n",
    ">A dictionary is a list of items organized via a system of keys. With a real dictionary, you look up a word to access its definition.  \n",
    "In programming, this word corresponds to the key and the definition to the value associated with it. This is called a key-value pair.  \n",
    "Each key in a dictionary must be unique."
   ]
  },
  {
   "cell_type": "code",
   "execution_count": 13,
   "metadata": {},
   "outputs": [
    {
     "name": "stdout",
     "output_type": "stream",
     "text": [
      "{'Mario': 10000, 'Alberto': 150, 'Katharine': 300, 'Isaac': 1800.74}\n",
      "\n",
      "150\n"
     ]
    }
   ],
   "source": [
    "accounts = {\"Mario\":10000,\"Alberto\":150,\"Katharine\":300,\"Isaac\":1800.74}\n",
    "print(accounts)\n",
    "print()\n",
    "print(accounts[\"Alberto\"])"
   ]
  },
  {
   "cell_type": "markdown",
   "metadata": {},
   "source": [
    "### *Manipulating  a  Dictionary*\n",
    "\n",
    ">Here are the operations frequently carried out with dictionaries:\n",
    "* Access the value of an item\n",
    "* Make an operation in an exist item or add a new one\n",
    "* Delete an item via its key (.pop)\n",
    "* See the lenght"
   ]
  },
  {
   "cell_type": "code",
   "execution_count": 38,
   "metadata": {},
   "outputs": [
    {
     "name": "stdout",
     "output_type": "stream",
     "text": [
      "10000\n",
      "4\n",
      "\n",
      "10500.0\n",
      "<class 'float'>\n",
      "10500\n",
      "<class 'int'>\n",
      "\n",
      "{'Alberto': 150, 'Katharine': 300, 'Isaac': 1800.74}\n",
      "\n",
      "3\n"
     ]
    }
   ],
   "source": [
    "#Acess\n",
    "accounts = {\"Mario\":10000,\"Alberto\":150,\"Katharine\":300,\"Isaac\":1800.74}\n",
    "print(accounts['Mario'])\n",
    "print(len(accounts))\n",
    "print()\n",
    "\n",
    "#Add or sub\n",
    "accounts[\"Mario\"] += 1000\n",
    "accounts[\"Mario\"] -= 500\n",
    "accounts[\"Mario\"] /= 2\n",
    "accounts[\"Mario\"] *= 2\n",
    "int(accounts[\"Mario\"]) #retorna Mario como float pois não converte\n",
    "print(accounts[\"Mario\"])\n",
    "print(type(accounts[\"Mario\"]))\n",
    "\n",
    "accounts[\"Mario\"] = int(accounts[\"Mario\"]) #declarar novamente realiza a conversão\n",
    "print(accounts[\"Mario\"])\n",
    "print(type(accounts[\"Mario\"]))\n",
    "print()\n",
    "\n",
    "#Remove from dictionary\n",
    "accounts.pop(\"Mario\")\n",
    "print(accounts)\n",
    "print()\n",
    "\n",
    "#Lenght\n",
    "print(len(accounts))"
   ]
  },
  {
   "cell_type": "markdown",
   "metadata": {},
   "source": [
    "# $Tuples$\n",
    "\n",
    "> They are very similar to lists. Ordered objects acess via index.  \n",
    "The main difference is that once a tuple has been declared, it **cannot be modified**. It is then said that it is **immutable**.\n",
    "\n",
    "### *We can't modify a tuple? So what's the point of it?!*\n",
    "\n",
    "* When you want to make sure that data is not modified within a program.\n",
    "* To return several values from a function.\n",
    "* To declare several variables in one line.\n",
    "\n",
    "### *Declare a Tuple*\n",
    "\n",
    ">Tuples are declared in a very similar way to lists, except parentheses are used instead of square brackets"
   ]
  },
  {
   "cell_type": "code",
   "execution_count": 5,
   "metadata": {},
   "outputs": [
    {
     "name": "stdout",
     "output_type": "stream",
     "text": [
      "(1, 2, 3, 'Quatro')\n"
     ]
    }
   ],
   "source": [
    "myTuple = (1,2,3,\"Quatro\")\n",
    "print(myTuple)"
   ]
  },
  {
   "cell_type": "markdown",
   "metadata": {},
   "source": [
    "### *Manipulate Tuples*\n",
    ">Using it's indexes"
   ]
  },
  {
   "cell_type": "code",
   "execution_count": null,
   "metadata": {},
   "outputs": [
    {
     "name": "stdout",
     "output_type": "stream",
     "text": [
      "(1, 2, 3, 'Quatro')\n",
      "1\n",
      "2\n",
      "3\n",
      "Quatro\n",
      "(1,)\n",
      "\n",
      "1\n",
      "2\n"
     ]
    }
   ],
   "source": [
    "#A Tupla é como uma lista, porém é um objeto imutável, ou seja, não pode ser alterado após a sua criação.\n",
    "# Ao invés de usar colchetes, usamos parênteses para criar uma Tupla.\n",
    "\n",
    "myTuple = (1,2,3,\"Quatro\")\n",
    "print(myTuple)\n",
    "\n",
    "print(myTuple[0])\n",
    "print(myTuple[1])\n",
    "print(myTuple[2])\n",
    "print(myTuple[3])\n",
    "print(myTuple[0:1])\n",
    "\n",
    "print()\n",
    "\n",
    "#Declaração de várias variáveis ao mesmo tempo com Tupla\n",
    "\n",
    "\n",
    "a,b = (1,2)\n",
    "print(a)\n",
    "print(b)\n",
    "\n",
    "#Quando tentar modificar uma Tupla \n",
    "# myTuple[0] = 4\n",
    "# aparecerá o erro:\n",
    "\n",
    "#'tuple' object does not support item assignment"
   ]
  }
 ],
 "metadata": {
  "kernelspec": {
   "display_name": "Python 3",
   "language": "python",
   "name": "python3"
  },
  "language_info": {
   "codemirror_mode": {
    "name": "ipython",
    "version": 3
   },
   "file_extension": ".py",
   "mimetype": "text/x-python",
   "name": "python",
   "nbconvert_exporter": "python",
   "pygments_lexer": "ipython3",
   "version": "3.11.9"
  }
 },
 "nbformat": 4,
 "nbformat_minor": 2
}
