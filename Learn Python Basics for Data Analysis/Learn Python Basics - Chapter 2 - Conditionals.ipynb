{
 "cells": [
  {
   "cell_type": "markdown",
   "metadata": {},
   "source": [
    "# $Chapter$ $2$\n",
    "\n",
    "## $Conditionals$\n",
    "\n",
    "### *Control Your Code With Conditional Structures - Control the flow of the program*\n",
    "\n",
    "Results in a Boolean value, Boolean is the most primitive type. True or False\n",
    "<br>\n",
    "<br>\n",
    "### *Print Information if Available*\n",
    "\n",
    "When you start your program, you do not necessarily know the name of the user in advance. How about a program that can:\n",
    "\n",
    "say hello to a particular user, if you know their name...\n",
    "\n",
    "if not, continue to say hello to everyone?"
   ]
  },
  {
   "cell_type": "code",
   "execution_count": 7,
   "metadata": {},
   "outputs": [
    {
     "name": "stdout",
     "output_type": "stream",
     "text": [
      "You didn't enter anything, so I will call you 'Stranger'.\n"
     ]
    }
   ],
   "source": [
    "username = input(\"What's your name, dear stranger?\")\n",
    "\n",
    "if len(username) > 0:\n",
    "    print(\"Hello,\", username, \"!\")\n",
    "else:\n",
    "    print(\"You didn't enter anything, so I will call you 'Stranger'.\")\n",
    "\n",
    "#The block construction using the:  operator and indentation are essential and omnipresent concepts in Python! \n",
    "#Be very careful about the organization of your code at this level, to avoid some lines being run when they should not be, and vice versa."
   ]
  },
  {
   "cell_type": "markdown",
   "metadata": {},
   "source": [
    "It works well! Everything indented below the if is executed if the condition is true, otherwise the program runs everything indented below the else.\n",
    "<br>\n",
    "<br>\n",
    "### *Use Booleans: The No-Half-Measure Type*\n",
    "\n",
    "It's absolutely necessary to understand that what follows the ***if***      keyword results in a boolean. "
   ]
  },
  {
   "cell_type": "code",
   "execution_count": 10,
   "metadata": {},
   "outputs": [
    {
     "data": {
      "text/plain": [
       "True"
      ]
     },
     "execution_count": 10,
     "metadata": {},
     "output_type": "execute_result"
    }
   ],
   "source": [
    "thisCourseIsGreat = True\n",
    "itsAuthorIsVeryHumble = False\n",
    "\n",
    "weather = \"The weather is great!\"\n",
    "weather.startswith(\"The weather\") # -> True, startswith  is a method of the string class, which returns True when the string starts exactly with the string passed as a parameter;  False , if not."
   ]
  },
  {
   "cell_type": "markdown",
   "metadata": {},
   "source": [
    "### *Comparison Operators*\n",
    "\n",
    "==  equal to (two values are exactly the same)\n",
    "\n",
    "!=  different from\n",
    "\n",
    "<  less than\n",
    "\n",
    "<=  less than or equal to\n",
    "\n",
    "(>)  greater than\n",
    "\n",
    "(>=)  greater than or equal to"
   ]
  },
  {
   "cell_type": "code",
   "execution_count": 12,
   "metadata": {},
   "outputs": [
    {
     "name": "stdout",
     "output_type": "stream",
     "text": [
      "You are an adult.\n"
     ]
    }
   ],
   "source": [
    "2 == 2 # -> True\n",
    "2 == 3 # -> False\n",
    "4 != 4 # -> False\n",
    "4!= 5 # -> True\n",
    "1 < 2 # -> True\n",
    "1 < 1 # -> False\n",
    "1 <= 1 # -> True\n",
    "3 > 4 # -> False\n",
    "5 > 4 # -> True\n",
    "5 >= 4 # -> True\n",
    "\n",
    "age = 18\n",
    "if age >= 18:\n",
    "    print(\"You are an adult.\")"
   ]
  },
  {
   "cell_type": "markdown",
   "metadata": {},
   "source": [
    "### *Logical Operators*\n",
    "\n",
    "And  \n",
    "Or  \n",
    "Not - This simply reverses the result of the given expression. For example, the result of *not(expression)* is true when expression  is false.\n",
    "\n",
    "#the  ***not***  operator is applied first, then the  ***and***  operator, then the ***or*** operator."
   ]
  },
  {
   "cell_type": "code",
   "execution_count": 17,
   "metadata": {},
   "outputs": [
    {
     "data": {
      "text/plain": [
       "True"
      ]
     },
     "execution_count": 17,
     "metadata": {},
     "output_type": "execute_result"
    }
   ],
   "source": [
    "True and True # True V&V -> V\n",
    "True and False # False V&F -> F\n",
    "False and False # False F&F -> F\n",
    "True or False # True T|F -> T\n",
    "True or True # True T|T -> T\n",
    "False or False # False F|F -> F\n",
    "not(True) # False\n",
    "not(False) # True\n",
    "\n",
    "True and True and True # True\n",
    "True and True and False # False\n",
    "True or False or False # True\n",
    "False or False or False # False\n",
    "\n",
    "#the  *not*  operator is applied first, then the  *and*  operator, then the  *or*  operator.\n",
    "\n",
    "False or True and True # True\n",
    "not(False) and True or False # True\n",
    "\n",
    "#You can also use parentheses to change the order:\n",
    "\n",
    "(True and False) or True # True\n",
    "not(True and False or not(True)) # True"
   ]
  },
  {
   "cell_type": "markdown",
   "metadata": {},
   "source": [
    "### *The  in  Operator*\n",
    "\n",
    "This returns   True  when a value is found in a sequence (a string or a list);  False , if not."
   ]
  },
  {
   "cell_type": "code",
   "execution_count": 19,
   "metadata": {},
   "outputs": [
    {
     "data": {
      "text/plain": [
       "False"
      ]
     },
     "execution_count": 19,
     "metadata": {},
     "output_type": "execute_result"
    }
   ],
   "source": [
    "myList = [4, 2, 3, 2, 10]\n",
    "myStringList = [\"a\", \"b\", \"c\", \"d\"]\n",
    "myString = \"The weather is really good today!\"\n",
    "\n",
    "4 in myList # True\n",
    "0 in myList # False\n",
    "0 in myStringList # False\n",
    "\"c\" in myStringList # True\n",
    "\"e\" in myStringList # False\n",
    "\"weather\" in myString # True\n",
    "\"really\" in myString # True\n",
    "\"rain?\" in myString # False"
   ]
  },
  {
   "cell_type": "markdown",
   "metadata": {},
   "source": [
    "### *Manage a Chain of Conditions*\n",
    "\n",
    "Python can link several conditions thanks to the keyword   elif  (contraction of else and if)\n",
    "\n",
    "```python\n",
    "if condition1:\n",
    "    # instructions\n",
    "elif condition2:\n",
    "    # instructions\n",
    "else:\n",
    "    # instructions\n",
    "```\n",
    "### *if vs elif*\n",
    "\n",
    "```python\n",
    "if x < 10:\n",
    "    print(\"A\")\n",
    "elif x < 20:\n",
    "    print(\"B\")\n",
    "```\n",
    "Result = A\n",
    "\n",
    "```python\n",
    "if x < 10:\n",
    "    print(\"A\")\n",
    "if x < 20:\n",
    "    print(\"B\")\n",
    "```\n",
    "Result = A B"
   ]
  },
  {
   "cell_type": "code",
   "execution_count": null,
   "metadata": {},
   "outputs": [],
   "source": [
    "account = input(\"What is your account balance?\")\n",
    "account = int(account) # transform the answer into an integer\n",
    "\n",
    "if account >= 10000:\n",
    "    print(\"Loan granted!\") #Empréstimo aprovado!\n",
    "elif account >= 100 and account < 10000:\n",
    "    print(\"Loan in process of validation: under study\") #Empréstimo em processo de validação: sob estudo\n",
    "else:\n",
    "    print(\"Loan refused\") #Empréstimo recusado"
   ]
  }
 ],
 "metadata": {
  "kernelspec": {
   "display_name": "Python 3",
   "language": "python",
   "name": "python3"
  },
  "language_info": {
   "codemirror_mode": {
    "name": "ipython",
    "version": 3
   },
   "file_extension": ".py",
   "mimetype": "text/x-python",
   "name": "python",
   "nbconvert_exporter": "python",
   "pygments_lexer": "ipython3",
   "version": "3.11.9"
  }
 },
 "nbformat": 4,
 "nbformat_minor": 2
}
