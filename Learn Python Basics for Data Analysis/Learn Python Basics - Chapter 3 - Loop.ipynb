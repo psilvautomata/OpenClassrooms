{
 "cells": [
  {
   "cell_type": "markdown",
   "id": "1c218615",
   "metadata": {},
   "source": [
    "# $Chapter$ $3$\n",
    "\n",
    "# $Loop$\n",
    "\n",
    "*Choose the Appropriate Loop*\n",
    "\n",
    "A loop is structure that can repeat one or more lines of code without have to rewrite them several times.  \n",
    "<br>\n",
    "There are two types of loops: for and \n",
    "<br>\n",
    "<br>\n",
    "### *Loop a Set Number of Times With the for Loop - Using For*\n",
    "For loops are used when you know in advance how many times an action will be repeated.  \n",
    "<br>\n",
    "However, unlike most other languages, in Python a for loop will necessarily iterate through a collection (list, dictionary, string, etc.).  \n",
    "<br>\n",
    "Python wants to loop over a collection, you need to create a collection containing your range of integer values."
   ]
  },
  {
   "cell_type": "code",
   "execution_count": 1,
   "id": "233e267e",
   "metadata": {},
   "outputs": [
    {
     "name": "stdout",
     "output_type": "stream",
     "text": [
      "1\n",
      "2\n",
      "3\n"
     ]
    }
   ],
   "source": [
    "myList = [1,2,3]\n",
    "\n",
    "for i in myList:\n",
    "    print(i)"
   ]
  },
  {
   "cell_type": "markdown",
   "id": "b5c10ed8",
   "metadata": {},
   "source": [
    "The printed result corresponds to each item in the list taken one by one."
   ]
  },
  {
   "cell_type": "code",
   "execution_count": 2,
   "id": "b356875a",
   "metadata": {},
   "outputs": [
    {
     "name": "stdout",
     "output_type": "stream",
     "text": [
      "I\n",
      "t\n",
      "e\n",
      "m\n",
      "s\n"
     ]
    }
   ],
   "source": [
    "myString = \"Items\"\n",
    "\n",
    "for i in myString:\n",
    "    print(i)"
   ]
  },
  {
   "cell_type": "markdown",
   "id": "a347f071",
   "metadata": {},
   "source": [
    "### *The for Loop via an Iterative Integer Value*\n",
    "\n",
    "range(start, stop, step)  \n",
    "<br>\n",
    "• start: the first number of the sequence.  \n",
    "• stop: corresponds to the last number of the sequence, **non-inclusive**. The function will generate numbers from   *start*  to   *stop-1*.  \n",
    "• step:  the step between each generated number.\n",
    "\n",
    "```python\n",
    "for i in range(0, 5, 1):\n",
    "    print(i) # -> print from 0 to 4 by steps of 1 (end - 1)\n",
    "\n",
    "for i in range(0, 5):\n",
    "    print(i) # -> prints from 0 to 4 also (default step is 1)\n",
    "\n",
    "for i in range(5):\n",
    "    print(i) # -> prints from 0 to 4 also (default start is 0)\n",
    "\n",
    "for i in range(0, 5, 2):\n",
    "    print(i) # -> print 0, 2 then 4"
   ]
  },
  {
   "cell_type": "markdown",
   "id": "13e1cb5f",
   "metadata": {},
   "source": [
    "### *Loop According to a Condition with the while Loop:*\n",
    "\n",
    "The while loop will run as long as a condition is met\n",
    "```Python\n",
    "while expressionLogic:\n",
    "    # block to execute\n",
    "```\n",
    "The program checks that expressionLogic is equal to True.\n",
    "\n",
    "If this is the case, the indented statements following the   :   are run. Once this is done, we return to step one.\n",
    "\n",
    "Otherwise, the program exits the loop without running the statements."
   ]
  }
 ],
 "metadata": {
  "kernelspec": {
   "display_name": "Python 3",
   "language": "python",
   "name": "python3"
  },
  "language_info": {
   "codemirror_mode": {
    "name": "ipython",
    "version": 3
   },
   "file_extension": ".py",
   "mimetype": "text/x-python",
   "name": "python",
   "nbconvert_exporter": "python",
   "pygments_lexer": "ipython3",
   "version": "3.11.9"
  }
 },
 "nbformat": 4,
 "nbformat_minor": 5
}
