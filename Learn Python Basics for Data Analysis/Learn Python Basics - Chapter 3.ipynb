{
 "cells": [
  {
   "cell_type": "markdown",
   "id": "1431befc",
   "metadata": {},
   "source": [
    "# $Chapter$ $3$\n",
    "\n",
    "# $Loop$\n",
    "\n",
    "*Choose the Appropriate Loop*\n",
    "\n",
    "A loop is structure that can repeat one or more lines of code without have to rewrite them several times.  \n",
    "<br>\n",
    "There are two types of loops: for and \n",
    "<br>\n",
    "### *Loop a Set Number of Times With the for Loop - Using For*\n",
    "For loops are used when you know in advance how many times an action will be repeated.  \n",
    "<br>\n",
    "However, unlike most other languages, in Python a for loop will necessarily iterate through a collection (list, dictionary, string, etc.).  \n",
    "<br>\n",
    "Python wants to loop over a collection, you need to create a collection containing your range of integer values."
   ]
  },
  {
   "cell_type": "code",
   "execution_count": null,
   "id": "8f4079b4",
   "metadata": {},
   "outputs": [
    {
     "name": "stdout",
     "output_type": "stream",
     "text": [
      "1\n",
      "2\n",
      "3\n"
     ]
    }
   ],
   "source": [
    "myList = [1,2,3]\n",
    "\n",
    "for i in myList:\n",
    "    print(i)"
   ]
  },
  {
   "cell_type": "markdown",
   "id": "7a11b28e",
   "metadata": {},
   "source": [
    "The printed result corresponds to each item in the list taken one by one."
   ]
  },
  {
   "cell_type": "code",
   "execution_count": null,
   "id": "ed84dc78",
   "metadata": {},
   "outputs": [],
   "source": [
    "myString = \"Items\"\n",
    "\n",
    "for i in myString:\n",
    "    print(i)"
   ]
  },
  {
   "cell_type": "markdown",
   "id": "fdc5b29d",
   "metadata": {},
   "source": [
    "### *The for Loop via an Iterative Integer Value*\n",
    "\n",
    "range(start, stop, step)  \n",
    "<br>\n",
    "• start: the first number of the sequence.  \n",
    "• stop: corresponds to the last number of the sequence, **non-inclusive**. The function will generate numbers from   *start*  to   *stop-1*.  \n",
    "• step:  the step between each generated number.\n",
    "\n",
    "```python\n",
    "for i in range(0, 5, 1):\n",
    "    print(i) # -> print from 0 to 4 by steps of 1 (end - 1)\n",
    "\n",
    "for i in range(0, 5):\n",
    "    print(i) # -> prints from 0 to 4 also (default step is 1)\n",
    "\n",
    "for i in range(5):\n",
    "    print(i) # -> prints from 0 to 4 also (default start is 0)\n",
    "\n",
    "for i in range(0, 5, 2):\n",
    "    print(i) # -> print 0, 2 then 4\n",
    "```"
   ]
  },
  {
   "cell_type": "markdown",
   "id": "72b57c51",
   "metadata": {},
   "source": [
    "### *Loop According to a Condition with the while Loop:*\n",
    "\n",
    "The while loop will run as long as a condition is met\n",
    "```Python\n",
    "while expressionLogic:\n",
    "    # block to execute\n",
    "```\n",
    "1. The program checks that expressionLogic is equal to True.\n",
    "\n",
    "2. If this is the case, the indented statements following the   :   are run. Once this is done, we return to step one.\n",
    "\n",
    "3. Otherwise, the program exits the loop without running the statements."
   ]
  },
  {
   "cell_type": "code",
   "execution_count": null,
   "id": "24e80c97",
   "metadata": {},
   "outputs": [],
   "source": [
    "numberTrees = 0\n",
    "\n",
    "while numberTrees < 10:\n",
    "    numberTrees += 1\n",
    "    print(\"I planted\", numberTrees, \"trees\")\n",
    "\n",
    "print(\"I have a nice forest!\")"
   ]
  },
  {
   "cell_type": "markdown",
   "id": "35e5bd2f",
   "metadata": {},
   "source": [
    "It is essential to keep in mind that a misused while loop can crash your program! ☠️  \n",
    "While the condition is still true, the program remains stuck in a loop. If the condition never becomes false, the program will never exit the loop.  \n",
    "We are in what is called, in programming, an **infinite loop.**\n",
    "<br>\n",
    "### *Skip Some Statements Within Your Loop*\n",
    "\n",
    "Regardless of the type of loop, there will be situations where you will want to skip some of the iterations within your loop, or even terminate the loop prematurely.  \n",
    "For example, you want to repeat something 10 times, but skip (at least partially) when the value is 2 or 5.  \n",
    "In Python, to force the start of the next loop iteration, use the keyword **continue**:"
   ]
  },
  {
   "cell_type": "code",
   "execution_count": null,
   "id": "78b703d4",
   "metadata": {},
   "outputs": [],
   "source": [
    "for i in range(10):\n",
    "    # statements executed at each iteration\n",
    "    print(i)\n",
    "    if (i == 2) or (i == 5):\n",
    "        print(\"Special case\")\n",
    "        continue\n",
    "    print(\"i != 2 & i != 5\")"
   ]
  },
  {
   "cell_type": "markdown",
   "id": "be5b370f",
   "metadata": {},
   "source": [
    "You can also decide to interrupt the loop, for example when looking for a particular item in a list. For this, you will use the   break  keyword."
   ]
  },
  {
   "cell_type": "code",
   "execution_count": null,
   "id": "7a7741d6",
   "metadata": {},
   "outputs": [],
   "source": [
    "basket = [\"apple\", \"orange\", \"banana\"]\n",
    "\n",
    "for fruit in basket:\n",
    "    if fruit == \"orange\":\n",
    "        print(\"I have an orange!\")\n",
    "        break"
   ]
  }
 ],
 "metadata": {
  "kernelspec": {
   "display_name": "Python 3",
   "language": "python",
   "name": "python3"
  },
  "language_info": {
   "name": "python",
   "version": "3.11.9"
  }
 },
 "nbformat": 4,
 "nbformat_minor": 5
}
