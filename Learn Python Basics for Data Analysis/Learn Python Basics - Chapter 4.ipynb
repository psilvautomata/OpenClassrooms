{
 "cells": [
  {
   "cell_type": "markdown",
   "id": "282596da",
   "metadata": {},
   "source": [
    "# $Chapter$ $4$\n",
    "\n",
    "# $Using$ $Python$ $Libraries$"
   ]
  }
 ],
 "metadata": {
  "kernelspec": {
   "display_name": "Python 3",
   "language": "python",
   "name": "python3"
  },
  "language_info": {
   "name": "python",
   "version": "3.11.9"
  }
 },
 "nbformat": 4,
 "nbformat_minor": 5
}
